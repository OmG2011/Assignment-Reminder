{
 "cells": [
  {
   "cell_type": "code",
   "execution_count": 1,
   "metadata": {},
   "outputs": [],
   "source": [
    "from plyer import notification  \n",
    "import pandas as pd    \n",
    "import datetime\n",
    "import pytz\n",
    "import time"
   ]
  },
  {
   "cell_type": "code",
   "execution_count": 2,
   "metadata": {},
   "outputs": [
    {
     "name": "stdout",
     "output_type": "stream",
     "text": [
      "2021-10-28 10:43\n",
      "<class 'int'>\n"
     ]
    }
   ],
   "source": [
    "current_time = datetime.datetime.now(pytz.timezone('Asia/Kolkata'))\n",
    "print(str(current_time.year) + \"-\" + str(current_time.month) + \"-\"  + str(current_time.day) + \" \" + str(current_time.hour) + \":\" + str(current_time.minute))\n",
    "\n",
    "print(type(current_time.minute))\n",
    "\n",
    "title = \"Assignments Update\"\n",
    "df = pd.read_excel(\"Assignments_List.xlsx\")\n",
    "\n",
    "day = list(df.Due)\n",
    "month = list(df.Month)\n",
    "year = list(df.Year)\n",
    "completed = list(df.Completed)\n",
    "assignment = list(df.Course)\n",
    "\n",
    "pointer = 0\n",
    "for i in range(0, len(completed)):\n",
    "    if(completed[i]) == \"No\":\n",
    "        message = str(assignment[i]) + \" is due in \" + str(int(year[i]) - current_time.year) + \" years, \" + str(int(month[i]) - current_time.month) + \" months, \" + str(int(day[i]) - current_time.day) + \" days, \" + str(24 - current_time.hour + 1) + \" hours and \" + str(60 - current_time.minute) + \" minutes.\"\n",
    "        pointer = i\n",
    "        break\n",
    "\n",
    "\n",
    "notification.notify(title = title, message = message, app_icon = None, timeout = 10)\n",
    "\n",
    "days_left = (int(day[pointer]) - current_time.day) - 1\n",
    "if int(day[pointer]) == current_time.day:\n",
    "    days_left = 0\n",
    "time_left = 24 - current_time.hour\n",
    "minutes_left = 60 - current_time.minute\n",
    "\n",
    "if days_left > 0:\n",
    "    time.sleep(24 * 60 * 60)\n",
    "\n",
    "else:\n",
    "    time.sleep(4230)\n",
    "    "
   ]
  },
  {
   "cell_type": "code",
   "execution_count": null,
   "metadata": {},
   "outputs": [],
   "source": []
  }
 ],
 "metadata": {
  "interpreter": {
   "hash": "186bef0192b7b85f7b1afc18012734e47ce5d085d2b541e86d24c262404d0882"
  },
  "kernelspec": {
   "display_name": "Python 3.7.10 64-bit ('myenv': conda)",
   "name": "python3"
  },
  "language_info": {
   "codemirror_mode": {
    "name": "ipython",
    "version": 3
   },
   "file_extension": ".py",
   "mimetype": "text/x-python",
   "name": "python",
   "nbconvert_exporter": "python",
   "pygments_lexer": "ipython3",
   "version": "3.7.10"
  },
  "orig_nbformat": 4
 },
 "nbformat": 4,
 "nbformat_minor": 2
}
